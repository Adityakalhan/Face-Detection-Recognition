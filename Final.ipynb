{
 "cells": [
  {
   "cell_type": "code",
   "execution_count": 26,
   "id": "f33e083e",
   "metadata": {},
   "outputs": [],
   "source": [
    "import dlib\n",
    "import face_recognition\n",
    "import cv2\n",
    "import os,sys\n",
    "import numpy as np\n",
    "import math"
   ]
  },
  {
   "cell_type": "code",
   "execution_count": 27,
   "id": "760f0b74",
   "metadata": {},
   "outputs": [],
   "source": [
    "def face_confidence(face_distance,face_match_threshold = 0.6) :\n",
    "    range_val = (1-face_match_threshold)\n",
    "    linear_val = (1-face_distance)/(range_val * 2)\n",
    "    if face_distance > face_match_threshold :\n",
    "        return str(round(linear_val * 100,2)) + '%'\n",
    "    else :\n",
    "        val = (linear_val + ((1-linear_val) * math.pow((linear_val-0.5)*2,0.2))) * 100\n",
    "        return str(round(val,2)) + '%'"
   ]
  },
  {
   "cell_type": "code",
   "execution_count": 28,
   "id": "8783ebb8",
   "metadata": {},
   "outputs": [],
   "source": [
    "class FaceRec :\n",
    "    face_locations = []\n",
    "    face_encodings = []\n",
    "    face_names = []\n",
    "    known_face_encodings = []\n",
    "    known_face_names = []\n",
    "    process_current_frame = True\n",
    "    \n",
    "    def __init__(self) :\n",
    "        self.encode_faces()\n",
    "        \n",
    "    def encode_faces(self) :\n",
    "        self.known_face_encodings = []\n",
    "        self.known_face_names = []\n",
    "        for image in os.listdir('faces'):\n",
    "            face_image = face_recognition.load_image_file(f'faces/{image}')\n",
    "            face_encoding = face_recognition.face_encodings(face_image)[0]\n",
    "            self.known_face_encodings.append(face_encoding)\n",
    "            self.known_face_names.append(image)\n",
    "        print(self.known_face_names)\n",
    "    \n",
    "    def recognise(self) :\n",
    "        video_capture = cv2.VideoCapture(0)\n",
    "        while True :\n",
    "            ret,frame  = video_capture.read()\n",
    "        \n",
    "            imgS = cv2.resize(frame,(0,0),None,0.25,0.25)\n",
    "            imgS = cv2.cvtColor(imgS, cv2.COLOR_BGR2RGB)\n",
    "\n",
    "            self.face_locations = face_recognition.face_locations(imgS)\n",
    "            self.face_encodings = face_recognition.face_encodings(imgS,self.face_locations)\n",
    "            self.face_names = []\n",
    "            for face_encoding in self.face_encodings :\n",
    "                matches = face_recognition.compare_faces(self.known_face_encodings,face_encoding)\n",
    "                name = 'unknown'\n",
    "                confidence = 'unknown'\n",
    "\n",
    "                face_distances = face_recognition.face_distance(self.known_face_encodings,face_encoding)\n",
    "                best_match_index = np.argmin(face_distances)\n",
    "\n",
    "                if matches[best_match_index] :\n",
    "                    name = self.known_face_names[best_match_index]\n",
    "                    confidence = face_confidence(face_distances[best_match_index])\n",
    "                self.face_names.append(f'{name} ({confidence})')\n",
    "               \n",
    "            \n",
    "            #display\n",
    "            for (t,r,b,l) , name in zip(self.face_locations,self.face_names) :\n",
    "                t,r,b,l = t * 4,r * 4,b * 4,l * 4 #resize to orignal shape\n",
    "                #print(t,r,b,l,name)\n",
    "                if name != 'unknown (unknown)' :\n",
    "                    cv2.rectangle(frame,(l,t),(r,b),(0,255,0),2)\n",
    "                    cv2.rectangle(frame,(l,b-35),(r,b),(0,255,0),-1)\n",
    "                else :\n",
    "                    cv2.rectangle(frame,(l,t),(r,b),(0,0,255),2)\n",
    "                    cv2.rectangle(frame,(l,b-35),(r,b),(0,0,255),-1)\n",
    "                \n",
    "                cv2.putText(frame,name,(l + 6,b - 6),cv2.FONT_HERSHEY_DUPLEX,0.8,(255,255,255),1)\n",
    "            cv2.imshow('Face Recognition',frame)\n",
    "            if cv2.waitKey(1)& 0xFF == ord('q') :\n",
    "                break\n",
    "                \n",
    "        video_capture.release()\n",
    "        cv2.destroyAllWindows()"
   ]
  },
  {
   "cell_type": "code",
   "execution_count": 29,
   "id": "9e80df1b",
   "metadata": {},
   "outputs": [
    {
     "name": "stdout",
     "output_type": "stream",
     "text": [
      "['Aditya Kalhan.jpg', 'Elon Musk.jpg', 'harry styles.jpg', 'MESSI.jpg', 'Ryan Reynolds.jpg']\n"
     ]
    }
   ],
   "source": [
    "fr = FaceRec()"
   ]
  },
  {
   "cell_type": "code",
   "execution_count": 30,
   "id": "37ce1c10",
   "metadata": {},
   "outputs": [],
   "source": [
    "fr.recognise()"
   ]
  },
  {
   "cell_type": "code",
   "execution_count": null,
   "id": "974a32b4",
   "metadata": {},
   "outputs": [],
   "source": [
    "\n"
   ]
  }
 ],
 "metadata": {
  "kernelspec": {
   "display_name": "Python 3 (ipykernel)",
   "language": "python",
   "name": "python3"
  },
  "language_info": {
   "codemirror_mode": {
    "name": "ipython",
    "version": 3
   },
   "file_extension": ".py",
   "mimetype": "text/x-python",
   "name": "python",
   "nbconvert_exporter": "python",
   "pygments_lexer": "ipython3",
   "version": "3.10.11"
  }
 },
 "nbformat": 4,
 "nbformat_minor": 5
}
