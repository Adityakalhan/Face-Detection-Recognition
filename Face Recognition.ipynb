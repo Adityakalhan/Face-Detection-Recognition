{
 "cells": [
  {
   "cell_type": "code",
   "execution_count": 3,
   "id": "459b3259",
   "metadata": {},
   "outputs": [],
   "source": [
    "import dlib\n",
    "import face_recognition\n",
    "import cv2\n",
    "import os,sys\n",
    "import numpy as np\n",
    "import math"
   ]
  },
  {
   "cell_type": "code",
   "execution_count": 4,
   "id": "dbf04cca",
   "metadata": {},
   "outputs": [],
   "source": [
    "## Accuracy\n",
    "def face_confidence(face_distance,face_match_threshold = 0.6) :\n",
    "    range_val (1-face_match_threshold)\n",
    "    linear_val = (1-face_distance)/(range_val * 2)\n",
    "    if face_distance > face_match_threshold :\n",
    "        return str(round(linear_val * 100,2)) + '%'\n",
    "    else :\n",
    "        val = (linear_val + ((1-linear_val) * math.pow((linear_val-0.5)*2,0.2))) * 100\n",
    "        return str(round(value,2)) + '%'"
   ]
  },
  {
   "cell_type": "code",
   "execution_count": 5,
   "id": "fabe7a08",
   "metadata": {},
   "outputs": [],
   "source": [
    "class FaceRec :\n",
    "    face_locations = []\n",
    "    face_encodings = []\n",
    "    face_names = []\n",
    "    known_face_encodings = []\n",
    "    known_face_names = []\n",
    "    process_current_frame = True\n",
    "    \n",
    "    def __init__(self) :\n",
    "        self.encode_faces()\n",
    "        \n",
    "    def encode_faces(self) :\n",
    "        self.known_face_encodings = []\n",
    "        self.known_face_names = []\n",
    "        for image in os.listdir('faces'):\n",
    "            face_image = face_recognition.load_image_file(f'faces/{image}')\n",
    "            face_encoding = face_recognition.face_encodings(face_image)[0]\n",
    "            self.known_face_encodings.append(face_encoding)\n",
    "            self.known_face_names.append(image)\n",
    "        print(self.known_face_names)\n",
    "    \n",
    "    def run_rec(self) :\n",
    "        video_capture = cv2.VideoCapture(0)\n",
    "        while True :\n",
    "            ret,frame = video_capture.read()\n",
    "            if self.process_current_frame :\n",
    "                \n",
    "                small_frame = cv2.resize(frame, (0, 0), fx=0.25, fy=0.25)\n",
    "                rgb_small_frame = small_frame[:, :, ::-1]\n",
    "                \n",
    "                #cv2.imshow(rgb_small_frame)\n",
    "                self.face_locations = face_recognition.face_locations(rgb_small_frame)[0]\n",
    "                self.face_encodings = face_recognition.face_encodings(rgb_small_frame, self.face_locations)\n",
    "                \n",
    "                self.face_names = []\n",
    "                for face_encoding in self.face_encodings :\n",
    "                    matches = face_recognition.compare_faces(self.known_face_encoding,face_encoding)\n",
    "                    name = 'unknown'\n",
    "                    confidence = 'unknown'\n",
    "                    \n",
    "                    face_distances = face_recognition.face_distance(self.known_face_encodings,face_encoding)\n",
    "                    best_match_index = np.argmin(face_distances)\n",
    "                    print(name)\n",
    "                    if matches[best_match_index] :\n",
    "                        name = self.known_face_names[best_match_index]\n",
    "                        confidence = face_confidence(face_distances[best_match_index])\n",
    "                    self.face_names.append(f'{name} ({confidence})')\n",
    "                self.process_current_frame = False\n",
    "            \n",
    "            #display\n",
    "            for (t,r,b,l) , name in zip(self.face_locations,self.face_names) :\n",
    "                t,r,b,l = t * 4,r * 4,b * 4,l * 4 #resize to orignal shape\n",
    "                \n",
    "                cv2.rectangle(frame,(l,t),(r,b),(0,0,255),2)\n",
    "                cv2.rectangle(frame,(l,b-35),(r,b),(0,0,255),-1)#fill the square\n",
    "                cv2.putText(frame,name,(left + 6,bottom - 6),cv2.FONT_HERSHEY_DUPLEX,0.8,(255,255,255),1)\n",
    "            cv2.imshow('Face Recognition',frame)\n",
    "            \n",
    "            if cv2.waitKey(1)& 0xFF == ord('q') :\n",
    "                break\n",
    "        video_capture.release()\n",
    "        cv2.destroyAllWindows()\n",
    "                        \n",
    "                       "
   ]
  },
  {
   "cell_type": "code",
   "execution_count": 6,
   "id": "65337f13",
   "metadata": {},
   "outputs": [
    {
     "name": "stdout",
     "output_type": "stream",
     "text": [
      "['Elon Musk.jpg', 'harry styles.jpg', 'MESSI.jpg', 'Ryan Reynolds.jpg']\n"
     ]
    }
   ],
   "source": [
    "fr = FaceRec()\n"
   ]
  },
  {
   "cell_type": "code",
   "execution_count": 7,
   "id": "9ebde3b6",
   "metadata": {},
   "outputs": [
    {
     "ename": "TypeError",
     "evalue": "'int' object is not subscriptable",
     "output_type": "error",
     "traceback": [
      "\u001b[1;31m---------------------------------------------------------------------------\u001b[0m",
      "\u001b[1;31mTypeError\u001b[0m                                 Traceback (most recent call last)",
      "Input \u001b[1;32mIn [7]\u001b[0m, in \u001b[0;36m<cell line: 1>\u001b[1;34m()\u001b[0m\n\u001b[1;32m----> 1\u001b[0m \u001b[43mfr\u001b[49m\u001b[38;5;241;43m.\u001b[39;49m\u001b[43mrun_rec\u001b[49m\u001b[43m(\u001b[49m\u001b[43m)\u001b[49m\n",
      "Input \u001b[1;32mIn [5]\u001b[0m, in \u001b[0;36mFaceRec.run_rec\u001b[1;34m(self)\u001b[0m\n\u001b[0;32m     31\u001b[0m \u001b[38;5;66;03m#cv2.imshow(rgb_small_frame)\u001b[39;00m\n\u001b[0;32m     32\u001b[0m \u001b[38;5;28mself\u001b[39m\u001b[38;5;241m.\u001b[39mface_locations \u001b[38;5;241m=\u001b[39m face_recognition\u001b[38;5;241m.\u001b[39mface_locations(rgb_small_frame)[\u001b[38;5;241m0\u001b[39m]\n\u001b[1;32m---> 33\u001b[0m \u001b[38;5;28mself\u001b[39m\u001b[38;5;241m.\u001b[39mface_encodings \u001b[38;5;241m=\u001b[39m \u001b[43mface_recognition\u001b[49m\u001b[38;5;241;43m.\u001b[39;49m\u001b[43mface_encodings\u001b[49m\u001b[43m(\u001b[49m\u001b[43mrgb_small_frame\u001b[49m\u001b[43m,\u001b[49m\u001b[43m \u001b[49m\u001b[38;5;28;43mself\u001b[39;49m\u001b[38;5;241;43m.\u001b[39;49m\u001b[43mface_locations\u001b[49m\u001b[43m)\u001b[49m\n\u001b[0;32m     35\u001b[0m \u001b[38;5;28mself\u001b[39m\u001b[38;5;241m.\u001b[39mface_names \u001b[38;5;241m=\u001b[39m []\n\u001b[0;32m     36\u001b[0m \u001b[38;5;28;01mfor\u001b[39;00m face_encoding \u001b[38;5;129;01min\u001b[39;00m \u001b[38;5;28mself\u001b[39m\u001b[38;5;241m.\u001b[39mface_encodings :\n",
      "File \u001b[1;32m~\\anaconda3\\envs\\new_env\\lib\\site-packages\\face_recognition\\api.py:213\u001b[0m, in \u001b[0;36mface_encodings\u001b[1;34m(face_image, known_face_locations, num_jitters, model)\u001b[0m\n\u001b[0;32m    203\u001b[0m \u001b[38;5;28;01mdef\u001b[39;00m \u001b[38;5;21mface_encodings\u001b[39m(face_image, known_face_locations\u001b[38;5;241m=\u001b[39m\u001b[38;5;28;01mNone\u001b[39;00m, num_jitters\u001b[38;5;241m=\u001b[39m\u001b[38;5;241m1\u001b[39m, model\u001b[38;5;241m=\u001b[39m\u001b[38;5;124m\"\u001b[39m\u001b[38;5;124msmall\u001b[39m\u001b[38;5;124m\"\u001b[39m):\n\u001b[0;32m    204\u001b[0m     \u001b[38;5;124;03m\"\"\"\u001b[39;00m\n\u001b[0;32m    205\u001b[0m \u001b[38;5;124;03m    Given an image, return the 128-dimension face encoding for each face in the image.\u001b[39;00m\n\u001b[0;32m    206\u001b[0m \n\u001b[1;32m   (...)\u001b[0m\n\u001b[0;32m    211\u001b[0m \u001b[38;5;124;03m    :return: A list of 128-dimensional face encodings (one for each face in the image)\u001b[39;00m\n\u001b[0;32m    212\u001b[0m \u001b[38;5;124;03m    \"\"\"\u001b[39;00m\n\u001b[1;32m--> 213\u001b[0m     raw_landmarks \u001b[38;5;241m=\u001b[39m \u001b[43m_raw_face_landmarks\u001b[49m\u001b[43m(\u001b[49m\u001b[43mface_image\u001b[49m\u001b[43m,\u001b[49m\u001b[43m \u001b[49m\u001b[43mknown_face_locations\u001b[49m\u001b[43m,\u001b[49m\u001b[43m \u001b[49m\u001b[43mmodel\u001b[49m\u001b[43m)\u001b[49m\n\u001b[0;32m    214\u001b[0m     \u001b[38;5;28;01mreturn\u001b[39;00m [np\u001b[38;5;241m.\u001b[39marray(face_encoder\u001b[38;5;241m.\u001b[39mcompute_face_descriptor(face_image, raw_landmark_set, num_jitters)) \u001b[38;5;28;01mfor\u001b[39;00m raw_landmark_set \u001b[38;5;129;01min\u001b[39;00m raw_landmarks]\n",
      "File \u001b[1;32m~\\anaconda3\\envs\\new_env\\lib\\site-packages\\face_recognition\\api.py:158\u001b[0m, in \u001b[0;36m_raw_face_landmarks\u001b[1;34m(face_image, face_locations, model)\u001b[0m\n\u001b[0;32m    156\u001b[0m     face_locations \u001b[38;5;241m=\u001b[39m _raw_face_locations(face_image)\n\u001b[0;32m    157\u001b[0m \u001b[38;5;28;01melse\u001b[39;00m:\n\u001b[1;32m--> 158\u001b[0m     face_locations \u001b[38;5;241m=\u001b[39m [_css_to_rect(face_location) \u001b[38;5;28;01mfor\u001b[39;00m face_location \u001b[38;5;129;01min\u001b[39;00m face_locations]\n\u001b[0;32m    160\u001b[0m pose_predictor \u001b[38;5;241m=\u001b[39m pose_predictor_68_point\n\u001b[0;32m    162\u001b[0m \u001b[38;5;28;01mif\u001b[39;00m model \u001b[38;5;241m==\u001b[39m \u001b[38;5;124m\"\u001b[39m\u001b[38;5;124msmall\u001b[39m\u001b[38;5;124m\"\u001b[39m:\n",
      "File \u001b[1;32m~\\anaconda3\\envs\\new_env\\lib\\site-packages\\face_recognition\\api.py:158\u001b[0m, in \u001b[0;36m<listcomp>\u001b[1;34m(.0)\u001b[0m\n\u001b[0;32m    156\u001b[0m     face_locations \u001b[38;5;241m=\u001b[39m _raw_face_locations(face_image)\n\u001b[0;32m    157\u001b[0m \u001b[38;5;28;01melse\u001b[39;00m:\n\u001b[1;32m--> 158\u001b[0m     face_locations \u001b[38;5;241m=\u001b[39m [\u001b[43m_css_to_rect\u001b[49m\u001b[43m(\u001b[49m\u001b[43mface_location\u001b[49m\u001b[43m)\u001b[49m \u001b[38;5;28;01mfor\u001b[39;00m face_location \u001b[38;5;129;01min\u001b[39;00m face_locations]\n\u001b[0;32m    160\u001b[0m pose_predictor \u001b[38;5;241m=\u001b[39m pose_predictor_68_point\n\u001b[0;32m    162\u001b[0m \u001b[38;5;28;01mif\u001b[39;00m model \u001b[38;5;241m==\u001b[39m \u001b[38;5;124m\"\u001b[39m\u001b[38;5;124msmall\u001b[39m\u001b[38;5;124m\"\u001b[39m:\n",
      "File \u001b[1;32m~\\anaconda3\\envs\\new_env\\lib\\site-packages\\face_recognition\\api.py:49\u001b[0m, in \u001b[0;36m_css_to_rect\u001b[1;34m(css)\u001b[0m\n\u001b[0;32m     42\u001b[0m \u001b[38;5;28;01mdef\u001b[39;00m \u001b[38;5;21m_css_to_rect\u001b[39m(css):\n\u001b[0;32m     43\u001b[0m     \u001b[38;5;124;03m\"\"\"\u001b[39;00m\n\u001b[0;32m     44\u001b[0m \u001b[38;5;124;03m    Convert a tuple in (top, right, bottom, left) order to a dlib `rect` object\u001b[39;00m\n\u001b[0;32m     45\u001b[0m \n\u001b[0;32m     46\u001b[0m \u001b[38;5;124;03m    :param css:  plain tuple representation of the rect in (top, right, bottom, left) order\u001b[39;00m\n\u001b[0;32m     47\u001b[0m \u001b[38;5;124;03m    :return: a dlib `rect` object\u001b[39;00m\n\u001b[0;32m     48\u001b[0m \u001b[38;5;124;03m    \"\"\"\u001b[39;00m\n\u001b[1;32m---> 49\u001b[0m     \u001b[38;5;28;01mreturn\u001b[39;00m dlib\u001b[38;5;241m.\u001b[39mrectangle(\u001b[43mcss\u001b[49m\u001b[43m[\u001b[49m\u001b[38;5;241;43m3\u001b[39;49m\u001b[43m]\u001b[49m, css[\u001b[38;5;241m0\u001b[39m], css[\u001b[38;5;241m1\u001b[39m], css[\u001b[38;5;241m2\u001b[39m])\n",
      "\u001b[1;31mTypeError\u001b[0m: 'int' object is not subscriptable"
     ]
    }
   ],
   "source": [
    "fr.run_rec()"
   ]
  },
  {
   "cell_type": "code",
   "execution_count": null,
   "id": "8c6a3c52",
   "metadata": {},
   "outputs": [],
   "source": []
  }
 ],
 "metadata": {
  "kernelspec": {
   "display_name": "Python 3 (ipykernel)",
   "language": "python",
   "name": "python3"
  },
  "language_info": {
   "codemirror_mode": {
    "name": "ipython",
    "version": 3
   },
   "file_extension": ".py",
   "mimetype": "text/x-python",
   "name": "python",
   "nbconvert_exporter": "python",
   "pygments_lexer": "ipython3",
   "version": "3.10.11"
  }
 },
 "nbformat": 4,
 "nbformat_minor": 5
}
